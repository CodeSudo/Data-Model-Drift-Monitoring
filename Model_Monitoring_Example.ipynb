{
 "cells": [
  {
   "cell_type": "code",
   "execution_count": 8,
   "metadata": {},
   "outputs": [],
   "source": [
    "# %%capture\n",
    "# !pip install alibi"
   ]
  },
  {
   "cell_type": "code",
   "execution_count": 11,
   "metadata": {},
   "outputs": [],
   "source": [
    "# %%capture\n",
    "# !pip install alibi-detect"
   ]
  },
  {
   "cell_type": "code",
   "execution_count": 65,
   "metadata": {},
   "outputs": [],
   "source": [
    "import pandas as pd\n",
    "import numpy as np \n",
    "pd.set_option('display.max_columns', None)\n",
    "pd.set_option('display.max_rows', 200)\n",
    "\n",
    "import scipy.stats as stats\n",
    "import matplotlib.pyplot as plt \n",
    "import seaborn as sns\n",
    "import pickle \n",
    "\n",
    "import alibi \n",
    "from alibi_detect.cd import ChiSquareDrift, TabularDrift\n",
    "from alibi_detect.saving import save_detector, load_detector\n",
    "\n",
    "import warnings\n",
    "warnings.filterwarnings('ignore')"
   ]
  },
  {
   "cell_type": "code",
   "execution_count": 66,
   "metadata": {},
   "outputs": [
    {
     "name": "stdout",
     "output_type": "stream",
     "text": [
      "(614, 11)\n"
     ]
    },
    {
     "data": {
      "text/html": [
       "<div>\n",
       "<style scoped>\n",
       "    .dataframe tbody tr th:only-of-type {\n",
       "        vertical-align: middle;\n",
       "    }\n",
       "\n",
       "    .dataframe tbody tr th {\n",
       "        vertical-align: top;\n",
       "    }\n",
       "\n",
       "    .dataframe thead th {\n",
       "        text-align: right;\n",
       "    }\n",
       "</style>\n",
       "<table border=\"1\" class=\"dataframe\">\n",
       "  <thead>\n",
       "    <tr style=\"text-align: right;\">\n",
       "      <th></th>\n",
       "      <th>Gender</th>\n",
       "      <th>Married</th>\n",
       "      <th>Dependents</th>\n",
       "      <th>Education</th>\n",
       "      <th>Self_Employed</th>\n",
       "      <th>ApplicantIncome</th>\n",
       "      <th>CoapplicantIncome</th>\n",
       "      <th>LoanAmount</th>\n",
       "      <th>Loan_Amount_Term</th>\n",
       "      <th>Property_Area</th>\n",
       "      <th>Loan_Status</th>\n",
       "    </tr>\n",
       "  </thead>\n",
       "  <tbody>\n",
       "    <tr>\n",
       "      <th>0</th>\n",
       "      <td>Male</td>\n",
       "      <td>No</td>\n",
       "      <td>0</td>\n",
       "      <td>Graduate</td>\n",
       "      <td>No</td>\n",
       "      <td>5849</td>\n",
       "      <td>0.0</td>\n",
       "      <td>NaN</td>\n",
       "      <td>360.0</td>\n",
       "      <td>Urban</td>\n",
       "      <td>Y</td>\n",
       "    </tr>\n",
       "    <tr>\n",
       "      <th>1</th>\n",
       "      <td>Male</td>\n",
       "      <td>Yes</td>\n",
       "      <td>1</td>\n",
       "      <td>Graduate</td>\n",
       "      <td>No</td>\n",
       "      <td>4583</td>\n",
       "      <td>1508.0</td>\n",
       "      <td>128.0</td>\n",
       "      <td>360.0</td>\n",
       "      <td>Rural</td>\n",
       "      <td>N</td>\n",
       "    </tr>\n",
       "    <tr>\n",
       "      <th>2</th>\n",
       "      <td>Male</td>\n",
       "      <td>Yes</td>\n",
       "      <td>0</td>\n",
       "      <td>Graduate</td>\n",
       "      <td>Yes</td>\n",
       "      <td>3000</td>\n",
       "      <td>0.0</td>\n",
       "      <td>66.0</td>\n",
       "      <td>360.0</td>\n",
       "      <td>Urban</td>\n",
       "      <td>Y</td>\n",
       "    </tr>\n",
       "    <tr>\n",
       "      <th>3</th>\n",
       "      <td>Male</td>\n",
       "      <td>Yes</td>\n",
       "      <td>0</td>\n",
       "      <td>Not Graduate</td>\n",
       "      <td>No</td>\n",
       "      <td>2583</td>\n",
       "      <td>2358.0</td>\n",
       "      <td>120.0</td>\n",
       "      <td>360.0</td>\n",
       "      <td>Urban</td>\n",
       "      <td>Y</td>\n",
       "    </tr>\n",
       "    <tr>\n",
       "      <th>4</th>\n",
       "      <td>Male</td>\n",
       "      <td>No</td>\n",
       "      <td>0</td>\n",
       "      <td>Graduate</td>\n",
       "      <td>No</td>\n",
       "      <td>6000</td>\n",
       "      <td>0.0</td>\n",
       "      <td>141.0</td>\n",
       "      <td>360.0</td>\n",
       "      <td>Urban</td>\n",
       "      <td>Y</td>\n",
       "    </tr>\n",
       "  </tbody>\n",
       "</table>\n",
       "</div>"
      ],
      "text/plain": [
       "  Gender Married Dependents     Education Self_Employed  ApplicantIncome  \\\n",
       "0   Male      No          0      Graduate            No             5849   \n",
       "1   Male     Yes          1      Graduate            No             4583   \n",
       "2   Male     Yes          0      Graduate           Yes             3000   \n",
       "3   Male     Yes          0  Not Graduate            No             2583   \n",
       "4   Male      No          0      Graduate            No             6000   \n",
       "\n",
       "   CoapplicantIncome  LoanAmount  Loan_Amount_Term Property_Area Loan_Status  \n",
       "0                0.0         NaN             360.0         Urban           Y  \n",
       "1             1508.0       128.0             360.0         Rural           N  \n",
       "2                0.0        66.0             360.0         Urban           Y  \n",
       "3             2358.0       120.0             360.0         Urban           Y  \n",
       "4                0.0       141.0             360.0         Urban           Y  "
      ]
     },
     "execution_count": 66,
     "metadata": {},
     "output_type": "execute_result"
    }
   ],
   "source": [
    "# Loading a sample dataset\n",
    "data_raw = pd.read_csv('Loan_Data.csv')\n",
    "data_raw = data_raw.drop(['Credit_History','Loan_ID'],axis=1) # dropping this feature because it is high importance and this will hide us from detecting drift in other variables\n",
    "print(data_raw.shape)\n",
    "data_raw.head()"
   ]
  },
  {
   "cell_type": "code",
   "execution_count": 67,
   "metadata": {},
   "outputs": [
    {
     "data": {
      "text/plain": [
       "Gender               13\n",
       "Married               3\n",
       "Dependents           15\n",
       "Education             0\n",
       "Self_Employed        32\n",
       "ApplicantIncome       0\n",
       "CoapplicantIncome     0\n",
       "LoanAmount           22\n",
       "Loan_Amount_Term     14\n",
       "Property_Area         0\n",
       "Loan_Status           0\n",
       "dtype: int64"
      ]
     },
     "execution_count": 67,
     "metadata": {},
     "output_type": "execute_result"
    }
   ],
   "source": [
    "data_raw.isna().sum()"
   ]
  },
  {
   "cell_type": "code",
   "execution_count": 68,
   "metadata": {},
   "outputs": [],
   "source": [
    "data_raw = data_raw.dropna()"
   ]
  },
  {
   "cell_type": "code",
   "execution_count": 69,
   "metadata": {},
   "outputs": [
    {
     "data": {
      "text/plain": [
       "Gender               0\n",
       "Married              0\n",
       "Dependents           0\n",
       "Education            0\n",
       "Self_Employed        0\n",
       "ApplicantIncome      0\n",
       "CoapplicantIncome    0\n",
       "LoanAmount           0\n",
       "Loan_Amount_Term     0\n",
       "Property_Area        0\n",
       "Loan_Status          0\n",
       "dtype: int64"
      ]
     },
     "execution_count": 69,
     "metadata": {},
     "output_type": "execute_result"
    }
   ],
   "source": [
    "data_raw.isna().sum()"
   ]
  },
  {
   "cell_type": "code",
   "execution_count": 70,
   "metadata": {},
   "outputs": [
    {
     "name": "stdout",
     "output_type": "stream",
     "text": [
      "(366, 10) (366, 1)\n",
      "(157, 10) (157, 1)\n"
     ]
    }
   ],
   "source": [
    "from sklearn.model_selection import train_test_split\n",
    "\n",
    "X_raw = data_raw.drop('Loan_Status',axis=1)\n",
    "Y_raw = data_raw[['Loan_Status']]\n",
    "\n",
    "x_train, x_test, y_train, y_test = train_test_split(X_raw,Y_raw,stratify=Y_raw,test_size=0.3)\n",
    "print(x_train.shape, y_train.shape)\n",
    "print(x_test.shape, y_test.shape)"
   ]
  },
  {
   "cell_type": "code",
   "execution_count": 71,
   "metadata": {},
   "outputs": [
    {
     "name": "stdout",
     "output_type": "stream",
     "text": [
      "{'Male': 1, 'Female': 0}\n",
      "{'Yes': 1, 'No': 0}\n",
      "{'3+': 3, '1': 1, '0': 0, '2': 2}\n",
      "{'Graduate': 0, 'Not Graduate': 1}\n",
      "{'No': 0, 'Yes': 1}\n",
      "{'Urban': 2, 'Semiurban': 1, 'Rural': 0}\n"
     ]
    }
   ],
   "source": [
    "# Create the dictionary mapping for categorical features to numbers for the DataDrift library to work\n",
    "cat_features = ['Gender','Married','Dependents','Education','Self_Employed','Property_Area']\n",
    "\n",
    "temp = x_train.copy()\n",
    "\n",
    "for cat_var in cat_features:\n",
    "    fileName = cat_var+\"_mapping.pkl\"\n",
    "    temp[cat_var] = temp[cat_var].astype('category')\n",
    "    obj = dict(zip(temp[cat_var],temp[cat_var].cat.codes))\n",
    "    print(obj)\n",
    "    with open(fileName,'wb') as f:\n",
    "        pickle.dump(obj,f)"
   ]
  },
  {
   "cell_type": "code",
   "execution_count": 72,
   "metadata": {},
   "outputs": [],
   "source": [
    "# Encode the categorical features to numbers for the DataDrift library to work\n",
    "cat_features = ['Gender','Married','Dependents','Education','Self_Employed','Property_Area']\n",
    "\n",
    "for cat_var in cat_features:\n",
    "    fileName = cat_var+\"_mapping.pkl\"\n",
    "    with open(fileName,'rb') as f:\n",
    "        obj = pickle.load(f)\n",
    "\n",
    "    x_train[cat_var] = x_train[cat_var].map(obj)"
   ]
  },
  {
   "cell_type": "code",
   "execution_count": 73,
   "metadata": {},
   "outputs": [
    {
     "name": "stdout",
     "output_type": "stream",
     "text": [
      "(366, 10)\n"
     ]
    },
    {
     "data": {
      "text/html": [
       "<div>\n",
       "<style scoped>\n",
       "    .dataframe tbody tr th:only-of-type {\n",
       "        vertical-align: middle;\n",
       "    }\n",
       "\n",
       "    .dataframe tbody tr th {\n",
       "        vertical-align: top;\n",
       "    }\n",
       "\n",
       "    .dataframe thead th {\n",
       "        text-align: right;\n",
       "    }\n",
       "</style>\n",
       "<table border=\"1\" class=\"dataframe\">\n",
       "  <thead>\n",
       "    <tr style=\"text-align: right;\">\n",
       "      <th></th>\n",
       "      <th>Gender</th>\n",
       "      <th>Married</th>\n",
       "      <th>Dependents</th>\n",
       "      <th>Education</th>\n",
       "      <th>Self_Employed</th>\n",
       "      <th>ApplicantIncome</th>\n",
       "      <th>CoapplicantIncome</th>\n",
       "      <th>LoanAmount</th>\n",
       "      <th>Loan_Amount_Term</th>\n",
       "      <th>Property_Area</th>\n",
       "    </tr>\n",
       "  </thead>\n",
       "  <tbody>\n",
       "    <tr>\n",
       "      <th>257</th>\n",
       "      <td>1</td>\n",
       "      <td>1</td>\n",
       "      <td>3</td>\n",
       "      <td>0</td>\n",
       "      <td>0</td>\n",
       "      <td>5250</td>\n",
       "      <td>0.0</td>\n",
       "      <td>94.0</td>\n",
       "      <td>360.0</td>\n",
       "      <td>2</td>\n",
       "    </tr>\n",
       "    <tr>\n",
       "      <th>299</th>\n",
       "      <td>1</td>\n",
       "      <td>1</td>\n",
       "      <td>1</td>\n",
       "      <td>0</td>\n",
       "      <td>0</td>\n",
       "      <td>2014</td>\n",
       "      <td>2925.0</td>\n",
       "      <td>113.0</td>\n",
       "      <td>360.0</td>\n",
       "      <td>2</td>\n",
       "    </tr>\n",
       "    <tr>\n",
       "      <th>283</th>\n",
       "      <td>0</td>\n",
       "      <td>0</td>\n",
       "      <td>0</td>\n",
       "      <td>0</td>\n",
       "      <td>0</td>\n",
       "      <td>1811</td>\n",
       "      <td>1666.0</td>\n",
       "      <td>54.0</td>\n",
       "      <td>360.0</td>\n",
       "      <td>2</td>\n",
       "    </tr>\n",
       "    <tr>\n",
       "      <th>451</th>\n",
       "      <td>1</td>\n",
       "      <td>1</td>\n",
       "      <td>2</td>\n",
       "      <td>1</td>\n",
       "      <td>0</td>\n",
       "      <td>1958</td>\n",
       "      <td>1456.0</td>\n",
       "      <td>60.0</td>\n",
       "      <td>300.0</td>\n",
       "      <td>2</td>\n",
       "    </tr>\n",
       "    <tr>\n",
       "      <th>192</th>\n",
       "      <td>1</td>\n",
       "      <td>1</td>\n",
       "      <td>0</td>\n",
       "      <td>1</td>\n",
       "      <td>0</td>\n",
       "      <td>6033</td>\n",
       "      <td>0.0</td>\n",
       "      <td>160.0</td>\n",
       "      <td>360.0</td>\n",
       "      <td>2</td>\n",
       "    </tr>\n",
       "  </tbody>\n",
       "</table>\n",
       "</div>"
      ],
      "text/plain": [
       "     Gender  Married  Dependents  Education  Self_Employed  ApplicantIncome  \\\n",
       "257       1        1           3          0              0             5250   \n",
       "299       1        1           1          0              0             2014   \n",
       "283       0        0           0          0              0             1811   \n",
       "451       1        1           2          1              0             1958   \n",
       "192       1        1           0          1              0             6033   \n",
       "\n",
       "     CoapplicantIncome  LoanAmount  Loan_Amount_Term  Property_Area  \n",
       "257                0.0        94.0             360.0              2  \n",
       "299             2925.0       113.0             360.0              2  \n",
       "283             1666.0        54.0             360.0              2  \n",
       "451             1456.0        60.0             300.0              2  \n",
       "192                0.0       160.0             360.0              2  "
      ]
     },
     "execution_count": 73,
     "metadata": {},
     "output_type": "execute_result"
    }
   ],
   "source": [
    "print(x_train.shape)\n",
    "x_train.head()"
   ]
  },
  {
   "cell_type": "code",
   "execution_count": 74,
   "metadata": {},
   "outputs": [
    {
     "name": "stdout",
     "output_type": "stream",
     "text": [
      "(366, 1)\n"
     ]
    },
    {
     "data": {
      "text/html": [
       "<div>\n",
       "<style scoped>\n",
       "    .dataframe tbody tr th:only-of-type {\n",
       "        vertical-align: middle;\n",
       "    }\n",
       "\n",
       "    .dataframe tbody tr th {\n",
       "        vertical-align: top;\n",
       "    }\n",
       "\n",
       "    .dataframe thead th {\n",
       "        text-align: right;\n",
       "    }\n",
       "</style>\n",
       "<table border=\"1\" class=\"dataframe\">\n",
       "  <thead>\n",
       "    <tr style=\"text-align: right;\">\n",
       "      <th></th>\n",
       "      <th>Loan_Status</th>\n",
       "    </tr>\n",
       "  </thead>\n",
       "  <tbody>\n",
       "    <tr>\n",
       "      <th>257</th>\n",
       "      <td>N</td>\n",
       "    </tr>\n",
       "    <tr>\n",
       "      <th>299</th>\n",
       "      <td>N</td>\n",
       "    </tr>\n",
       "    <tr>\n",
       "      <th>283</th>\n",
       "      <td>Y</td>\n",
       "    </tr>\n",
       "    <tr>\n",
       "      <th>451</th>\n",
       "      <td>Y</td>\n",
       "    </tr>\n",
       "    <tr>\n",
       "      <th>192</th>\n",
       "      <td>N</td>\n",
       "    </tr>\n",
       "  </tbody>\n",
       "</table>\n",
       "</div>"
      ],
      "text/plain": [
       "    Loan_Status\n",
       "257           N\n",
       "299           N\n",
       "283           Y\n",
       "451           Y\n",
       "192           N"
      ]
     },
     "execution_count": 74,
     "metadata": {},
     "output_type": "execute_result"
    }
   ],
   "source": [
    "print(y_train.shape)\n",
    "y_train.head()"
   ]
  },
  {
   "cell_type": "code",
   "execution_count": 76,
   "metadata": {},
   "outputs": [
    {
     "data": {
      "text/plain": [
       "((200, 10), (60, 10), (60, 10))"
      ]
     },
     "execution_count": 76,
     "metadata": {},
     "output_type": "execute_result"
    }
   ],
   "source": [
    "# Splitting the data to a REFERENCE_SET and two TEST_SETs\n",
    "n_ref = 200\n",
    "n_test = 60\n",
    "\n",
    "X = x_train.copy()\n",
    "Y = y_train.copy()\n",
    "\n",
    "X_ref, X_t0, X_t1 = X.iloc[:n_ref], X.iloc[n_ref:n_ref + n_test], X.iloc[n_ref + n_test:n_ref + 2 * n_test]\n",
    "X_ref.shape, X_t0.shape, X_t1.shape"
   ]
  },
  {
   "attachments": {},
   "cell_type": "markdown",
   "metadata": {},
   "source": [
    "##### Detect Data Drift:"
   ]
  },
  {
   "attachments": {},
   "cell_type": "markdown",
   "metadata": {},
   "source": [
    "We need to provide the drift detector with the columns which contain categorical features so it knows which features require the Chi-Squared and which ones require the K-S univariate test. We can either provide a dict with as keys the column indices and as values the number of possible categories or just set the values to None and let the detector infer the number of categories from the reference data as in the example below:"
   ]
  },
  {
   "cell_type": "code",
   "execution_count": 77,
   "metadata": {},
   "outputs": [
    {
     "data": {
      "text/html": [
       "<div>\n",
       "<style scoped>\n",
       "    .dataframe tbody tr th:only-of-type {\n",
       "        vertical-align: middle;\n",
       "    }\n",
       "\n",
       "    .dataframe tbody tr th {\n",
       "        vertical-align: top;\n",
       "    }\n",
       "\n",
       "    .dataframe thead th {\n",
       "        text-align: right;\n",
       "    }\n",
       "</style>\n",
       "<table border=\"1\" class=\"dataframe\">\n",
       "  <thead>\n",
       "    <tr style=\"text-align: right;\">\n",
       "      <th></th>\n",
       "      <th>Gender</th>\n",
       "      <th>Married</th>\n",
       "      <th>Dependents</th>\n",
       "      <th>Education</th>\n",
       "      <th>Self_Employed</th>\n",
       "      <th>ApplicantIncome</th>\n",
       "      <th>CoapplicantIncome</th>\n",
       "      <th>LoanAmount</th>\n",
       "      <th>Loan_Amount_Term</th>\n",
       "      <th>Property_Area</th>\n",
       "    </tr>\n",
       "  </thead>\n",
       "  <tbody>\n",
       "    <tr>\n",
       "      <th>257</th>\n",
       "      <td>1</td>\n",
       "      <td>1</td>\n",
       "      <td>3</td>\n",
       "      <td>0</td>\n",
       "      <td>0</td>\n",
       "      <td>5250</td>\n",
       "      <td>0.0</td>\n",
       "      <td>94.0</td>\n",
       "      <td>360.0</td>\n",
       "      <td>2</td>\n",
       "    </tr>\n",
       "    <tr>\n",
       "      <th>299</th>\n",
       "      <td>1</td>\n",
       "      <td>1</td>\n",
       "      <td>1</td>\n",
       "      <td>0</td>\n",
       "      <td>0</td>\n",
       "      <td>2014</td>\n",
       "      <td>2925.0</td>\n",
       "      <td>113.0</td>\n",
       "      <td>360.0</td>\n",
       "      <td>2</td>\n",
       "    </tr>\n",
       "    <tr>\n",
       "      <th>283</th>\n",
       "      <td>0</td>\n",
       "      <td>0</td>\n",
       "      <td>0</td>\n",
       "      <td>0</td>\n",
       "      <td>0</td>\n",
       "      <td>1811</td>\n",
       "      <td>1666.0</td>\n",
       "      <td>54.0</td>\n",
       "      <td>360.0</td>\n",
       "      <td>2</td>\n",
       "    </tr>\n",
       "    <tr>\n",
       "      <th>451</th>\n",
       "      <td>1</td>\n",
       "      <td>1</td>\n",
       "      <td>2</td>\n",
       "      <td>1</td>\n",
       "      <td>0</td>\n",
       "      <td>1958</td>\n",
       "      <td>1456.0</td>\n",
       "      <td>60.0</td>\n",
       "      <td>300.0</td>\n",
       "      <td>2</td>\n",
       "    </tr>\n",
       "    <tr>\n",
       "      <th>192</th>\n",
       "      <td>1</td>\n",
       "      <td>1</td>\n",
       "      <td>0</td>\n",
       "      <td>1</td>\n",
       "      <td>0</td>\n",
       "      <td>6033</td>\n",
       "      <td>0.0</td>\n",
       "      <td>160.0</td>\n",
       "      <td>360.0</td>\n",
       "      <td>2</td>\n",
       "    </tr>\n",
       "  </tbody>\n",
       "</table>\n",
       "</div>"
      ],
      "text/plain": [
       "     Gender  Married  Dependents  Education  Self_Employed  ApplicantIncome  \\\n",
       "257       1        1           3          0              0             5250   \n",
       "299       1        1           1          0              0             2014   \n",
       "283       0        0           0          0              0             1811   \n",
       "451       1        1           2          1              0             1958   \n",
       "192       1        1           0          1              0             6033   \n",
       "\n",
       "     CoapplicantIncome  LoanAmount  Loan_Amount_Term  Property_Area  \n",
       "257                0.0        94.0             360.0              2  \n",
       "299             2925.0       113.0             360.0              2  \n",
       "283             1666.0        54.0             360.0              2  \n",
       "451             1456.0        60.0             300.0              2  \n",
       "192                0.0       160.0             360.0              2  "
      ]
     },
     "execution_count": 77,
     "metadata": {},
     "output_type": "execute_result"
    }
   ],
   "source": [
    "X_ref.head()"
   ]
  },
  {
   "cell_type": "code",
   "execution_count": 78,
   "metadata": {},
   "outputs": [
    {
     "data": {
      "text/plain": [
       "{0: None, 1: None, 2: None, 3: None, 4: None, 9: None}"
      ]
     },
     "execution_count": 78,
     "metadata": {},
     "output_type": "execute_result"
    }
   ],
   "source": [
    "categories_per_feature = {f: None for f in [0,1,2,3,4,9]}\n",
    "categories_per_feature"
   ]
  },
  {
   "cell_type": "code",
   "execution_count": 79,
   "metadata": {},
   "outputs": [],
   "source": [
    "# Initialize the detector\n",
    "cd = TabularDrift(X_ref.values, p_val=.05, categories_per_feature=categories_per_feature)"
   ]
  },
  {
   "cell_type": "code",
   "execution_count": 15,
   "metadata": {},
   "outputs": [],
   "source": [
    "# # We can also save/load an initialised detector: (not working; throwing some error)\n",
    "# filepath = 'TrainedTabularDriftObj'  # change to directory where detector is saved\n",
    "# save_detector(cd, filepath)\n",
    "# trained_drift_model = load_detector(filepath,allow_pickle=True)"
   ]
  },
  {
   "cell_type": "code",
   "execution_count": 80,
   "metadata": {},
   "outputs": [],
   "source": [
    "# Using pickle to save and load it the trained detector\n",
    "with open('Trained_Drift_Detector.pkl','wb') as F:\n",
    "    pickle.dump(cd,F)\n",
    "\n",
    "with open('Trained_Drift_Detector.pkl','rb') as F:\n",
    "    trained_drift_model = pickle.load(F)    "
   ]
  },
  {
   "attachments": {},
   "cell_type": "markdown",
   "metadata": {},
   "source": [
    "**Predicting on the Test data:**"
   ]
  },
  {
   "cell_type": "code",
   "execution_count": 81,
   "metadata": {},
   "outputs": [
    {
     "name": "stdout",
     "output_type": "stream",
     "text": [
      "Drift? No!\n"
     ]
    }
   ],
   "source": [
    "preds = trained_drift_model.predict(X_t0.values)\n",
    "labels = ['No!', 'Yes!']\n",
    "print('Drift? {}'.format(labels[preds['data']['is_drift']]))"
   ]
  },
  {
   "cell_type": "code",
   "execution_count": 82,
   "metadata": {},
   "outputs": [
    {
     "data": {
      "text/plain": [
       "{'data': {'is_drift': 0,\n",
       "  'distance': array([0.03385417, 0.2980364 , 0.71121275, 0.09782918, 0.3766561 ,\n",
       "         0.18833333, 0.17333333, 0.205     , 0.045     , 0.41977727],\n",
       "        dtype=float32),\n",
       "  'p_val': array([0.8540174 , 0.585116  , 0.8705635 , 0.75445044, 0.5393983 ,\n",
       "         0.06674672, 0.11162439, 0.03582517, 0.9999323 , 0.8106745 ],\n",
       "        dtype=float32),\n",
       "  'threshold': 0.005},\n",
       " 'meta': {'name': 'TabularDrift',\n",
       "  'online': False,\n",
       "  'data_type': None,\n",
       "  'version': '0.11.0',\n",
       "  'detector_type': 'drift'}}"
      ]
     },
     "execution_count": 82,
     "metadata": {},
     "output_type": "execute_result"
    }
   ],
   "source": [
    "preds"
   ]
  },
  {
   "cell_type": "code",
   "execution_count": 83,
   "metadata": {},
   "outputs": [
    {
     "name": "stdout",
     "output_type": "stream",
     "text": [
      "Gender -- Chi2 0.034 -- p-value 0.854\n",
      "Married -- Chi2 0.298 -- p-value 0.585\n",
      "Dependents -- Chi2 0.711 -- p-value 0.871\n",
      "Education -- Chi2 0.098 -- p-value 0.754\n",
      "Self_Employed -- Chi2 0.377 -- p-value 0.539\n",
      "ApplicantIncome -- K-S 0.188 -- p-value 0.067\n",
      "CoapplicantIncome -- K-S 0.173 -- p-value 0.112\n",
      "LoanAmount -- K-S 0.205 -- p-value 0.036\n",
      "Loan_Amount_Term -- K-S 0.045 -- p-value 1.000\n",
      "Property_Area -- Chi2 0.420 -- p-value 0.811\n"
     ]
    }
   ],
   "source": [
    "cat_features = ['Gender','Married','Education','Self_Employed','Property_Area']\n",
    "\n",
    "for f in range(trained_drift_model.n_features):\n",
    "    stat = 'Chi2' if f in list(categories_per_feature.keys()) else 'K-S'\n",
    "    # print(f, stat)\n",
    "    fname = X_ref.columns.tolist()[f]\n",
    "    # print(f, fname)\n",
    "    stat_val, p_val = preds['data']['distance'][f], preds['data']['p_val'][f]\n",
    "    print(f'{fname} -- {stat} {stat_val:.3f} -- p-value {p_val:.3f}')"
   ]
  },
  {
   "attachments": {},
   "cell_type": "markdown",
   "metadata": {},
   "source": [
    "Testing whether changing few values in one of the column have any impact or not for the same dataset"
   ]
  },
  {
   "cell_type": "code",
   "execution_count": 84,
   "metadata": {},
   "outputs": [
    {
     "name": "stdout",
     "output_type": "stream",
     "text": [
      "(60, 10)\n"
     ]
    },
    {
     "data": {
      "text/html": [
       "<div>\n",
       "<style scoped>\n",
       "    .dataframe tbody tr th:only-of-type {\n",
       "        vertical-align: middle;\n",
       "    }\n",
       "\n",
       "    .dataframe tbody tr th {\n",
       "        vertical-align: top;\n",
       "    }\n",
       "\n",
       "    .dataframe thead th {\n",
       "        text-align: right;\n",
       "    }\n",
       "</style>\n",
       "<table border=\"1\" class=\"dataframe\">\n",
       "  <thead>\n",
       "    <tr style=\"text-align: right;\">\n",
       "      <th></th>\n",
       "      <th>Gender</th>\n",
       "      <th>Married</th>\n",
       "      <th>Dependents</th>\n",
       "      <th>Education</th>\n",
       "      <th>Self_Employed</th>\n",
       "      <th>ApplicantIncome</th>\n",
       "      <th>CoapplicantIncome</th>\n",
       "      <th>LoanAmount</th>\n",
       "      <th>Loan_Amount_Term</th>\n",
       "      <th>Property_Area</th>\n",
       "    </tr>\n",
       "  </thead>\n",
       "  <tbody>\n",
       "    <tr>\n",
       "      <th>5</th>\n",
       "      <td>5</td>\n",
       "      <td>1</td>\n",
       "      <td>2</td>\n",
       "      <td>0</td>\n",
       "      <td>1</td>\n",
       "      <td>5417</td>\n",
       "      <td>4196.0</td>\n",
       "      <td>267.0</td>\n",
       "      <td>360.0</td>\n",
       "      <td>2</td>\n",
       "    </tr>\n",
       "    <tr>\n",
       "      <th>554</th>\n",
       "      <td>5</td>\n",
       "      <td>1</td>\n",
       "      <td>0</td>\n",
       "      <td>0</td>\n",
       "      <td>0</td>\n",
       "      <td>3593</td>\n",
       "      <td>4266.0</td>\n",
       "      <td>132.0</td>\n",
       "      <td>180.0</td>\n",
       "      <td>0</td>\n",
       "    </tr>\n",
       "    <tr>\n",
       "      <th>156</th>\n",
       "      <td>5</td>\n",
       "      <td>1</td>\n",
       "      <td>1</td>\n",
       "      <td>0</td>\n",
       "      <td>0</td>\n",
       "      <td>6000</td>\n",
       "      <td>0.0</td>\n",
       "      <td>160.0</td>\n",
       "      <td>360.0</td>\n",
       "      <td>0</td>\n",
       "    </tr>\n",
       "    <tr>\n",
       "      <th>324</th>\n",
       "      <td>5</td>\n",
       "      <td>1</td>\n",
       "      <td>3</td>\n",
       "      <td>0</td>\n",
       "      <td>0</td>\n",
       "      <td>15000</td>\n",
       "      <td>0.0</td>\n",
       "      <td>300.0</td>\n",
       "      <td>360.0</td>\n",
       "      <td>0</td>\n",
       "    </tr>\n",
       "    <tr>\n",
       "      <th>130</th>\n",
       "      <td>5</td>\n",
       "      <td>0</td>\n",
       "      <td>0</td>\n",
       "      <td>0</td>\n",
       "      <td>1</td>\n",
       "      <td>20166</td>\n",
       "      <td>0.0</td>\n",
       "      <td>650.0</td>\n",
       "      <td>480.0</td>\n",
       "      <td>2</td>\n",
       "    </tr>\n",
       "  </tbody>\n",
       "</table>\n",
       "</div>"
      ],
      "text/plain": [
       "     Gender  Married  Dependents  Education  Self_Employed  ApplicantIncome  \\\n",
       "5         5        1           2          0              1             5417   \n",
       "554       5        1           0          0              0             3593   \n",
       "156       5        1           1          0              0             6000   \n",
       "324       5        1           3          0              0            15000   \n",
       "130       5        0           0          0              1            20166   \n",
       "\n",
       "     CoapplicantIncome  LoanAmount  Loan_Amount_Term  Property_Area  \n",
       "5               4196.0       267.0             360.0              2  \n",
       "554             4266.0       132.0             180.0              0  \n",
       "156                0.0       160.0             360.0              0  \n",
       "324                0.0       300.0             360.0              0  \n",
       "130                0.0       650.0             480.0              2  "
      ]
     },
     "execution_count": 84,
     "metadata": {},
     "output_type": "execute_result"
    }
   ],
   "source": [
    "test = X_t0.copy()\n",
    "test.iloc[:20,0] = 5\n",
    "print(test.shape)\n",
    "test.head()"
   ]
  },
  {
   "cell_type": "code",
   "execution_count": 85,
   "metadata": {},
   "outputs": [
    {
     "name": "stdout",
     "output_type": "stream",
     "text": [
      "Drift? Yes!\n"
     ]
    }
   ],
   "source": [
    "preds = trained_drift_model.predict(test.values)\n",
    "labels = ['No!', 'Yes!']\n",
    "print('Drift? {}'.format(labels[preds['data']['is_drift']]))"
   ]
  },
  {
   "cell_type": "code",
   "execution_count": 86,
   "metadata": {},
   "outputs": [
    {
     "data": {
      "text/plain": [
       "{'data': {'is_drift': 1,\n",
       "  'distance': array([7.2368927e+01, 2.9803640e-01, 7.1121275e-01, 9.7829178e-02,\n",
       "         3.7665609e-01, 1.8833333e-01, 1.7333333e-01, 2.0500000e-01,\n",
       "         4.5000002e-02, 4.1977727e-01], dtype=float32),\n",
       "  'p_val': array([1.9288032e-16, 5.8511603e-01, 8.7056351e-01, 7.5445044e-01,\n",
       "         5.3939831e-01, 6.6746719e-02, 1.1162439e-01, 3.5825167e-02,\n",
       "         9.9993229e-01, 8.1067449e-01], dtype=float32),\n",
       "  'threshold': 0.005},\n",
       " 'meta': {'name': 'TabularDrift',\n",
       "  'online': False,\n",
       "  'data_type': None,\n",
       "  'version': '0.11.0',\n",
       "  'detector_type': 'drift'}}"
      ]
     },
     "execution_count": 86,
     "metadata": {},
     "output_type": "execute_result"
    }
   ],
   "source": [
    "preds"
   ]
  },
  {
   "cell_type": "code",
   "execution_count": 87,
   "metadata": {},
   "outputs": [
    {
     "name": "stdout",
     "output_type": "stream",
     "text": [
      "Gender -- Chi2 72.369 -- p-value 0.000\n",
      "Married -- Chi2 0.298 -- p-value 0.585\n",
      "Dependents -- Chi2 0.711 -- p-value 0.871\n",
      "Education -- Chi2 0.098 -- p-value 0.754\n",
      "Self_Employed -- Chi2 0.377 -- p-value 0.539\n",
      "ApplicantIncome -- K-S 0.188 -- p-value 0.067\n",
      "CoapplicantIncome -- K-S 0.173 -- p-value 0.112\n",
      "LoanAmount -- K-S 0.205 -- p-value 0.036\n",
      "Loan_Amount_Term -- K-S 0.045 -- p-value 1.000\n",
      "Property_Area -- Chi2 0.420 -- p-value 0.811\n"
     ]
    }
   ],
   "source": [
    "for f in range(trained_drift_model.n_features):\n",
    "    stat = 'Chi2' if f in list(categories_per_feature.keys()) else 'K-S'\n",
    "    # print(f, stat)\n",
    "    fname = X_ref.columns.tolist()[f]\n",
    "    # print(f, fname)\n",
    "    stat_val, p_val = preds['data']['distance'][f], preds['data']['p_val'][f]\n",
    "    print(f'{fname} -- {stat} {stat_val:.3f} -- p-value {p_val:.3f}')"
   ]
  },
  {
   "attachments": {},
   "cell_type": "markdown",
   "metadata": {},
   "source": [
    "The above method will give us an indicator for the whole dataset and drift will be 1 or 0 based on all the features in the dataset.\n",
    "\n",
    "Follow the code below to get drift indicator for each features:\n",
    "\n",
    "The only difference between the above and the below is that 'is_drift' key in the below has drift indicator for each feature whereas in the above it will be a single 1/0 for the whole dataset."
   ]
  },
  {
   "cell_type": "code",
   "execution_count": 88,
   "metadata": {},
   "outputs": [
    {
     "data": {
      "text/plain": [
       "{'data': {'is_drift': array([1, 0, 0, 0, 0, 0, 0, 1, 0, 0]),\n",
       "  'distance': array([7.2368927e+01, 2.9803640e-01, 7.1121275e-01, 9.7829178e-02,\n",
       "         3.7665609e-01, 1.8833333e-01, 1.7333333e-01, 2.0500000e-01,\n",
       "         4.5000002e-02, 4.1977727e-01], dtype=float32),\n",
       "  'p_val': array([1.9288032e-16, 5.8511603e-01, 8.7056351e-01, 7.5445044e-01,\n",
       "         5.3939831e-01, 6.6746719e-02, 1.1162439e-01, 3.5825167e-02,\n",
       "         9.9993229e-01, 8.1067449e-01], dtype=float32),\n",
       "  'threshold': 0.05},\n",
       " 'meta': {'name': 'TabularDrift',\n",
       "  'online': False,\n",
       "  'data_type': None,\n",
       "  'version': '0.11.0',\n",
       "  'detector_type': 'drift'}}"
      ]
     },
     "execution_count": 88,
     "metadata": {},
     "output_type": "execute_result"
    }
   ],
   "source": [
    "# If you are interested in individual feature-wise drift, this is also possible:\n",
    "fpreds = trained_drift_model.predict(test.values, drift_type='feature')\n",
    "fpreds"
   ]
  },
  {
   "cell_type": "code",
   "execution_count": 89,
   "metadata": {},
   "outputs": [
    {
     "name": "stdout",
     "output_type": "stream",
     "text": [
      "Gender -- Drift? Yes! -- Chi2 72.369 -- p-value 0.000\n",
      "Married -- Drift? No! -- Chi2 0.298 -- p-value 0.585\n",
      "Dependents -- Drift? No! -- Chi2 0.711 -- p-value 0.871\n",
      "Education -- Drift? No! -- Chi2 0.098 -- p-value 0.754\n",
      "Self_Employed -- Drift? No! -- Chi2 0.377 -- p-value 0.539\n",
      "ApplicantIncome -- Drift? No! -- K-S 0.188 -- p-value 0.067\n",
      "CoapplicantIncome -- Drift? No! -- K-S 0.173 -- p-value 0.112\n",
      "LoanAmount -- Drift? Yes! -- K-S 0.205 -- p-value 0.036\n",
      "Loan_Amount_Term -- Drift? No! -- K-S 0.045 -- p-value 1.000\n",
      "Property_Area -- Drift? No! -- Chi2 0.420 -- p-value 0.811\n"
     ]
    }
   ],
   "source": [
    "for f in range(trained_drift_model.n_features):\n",
    "    stat = 'Chi2' if f in list(categories_per_feature.keys()) else 'K-S'\n",
    "    # print(f, stat)\n",
    "    fname = X_ref.columns.tolist()[f]\n",
    "    # print(f, fname)\n",
    "    is_drift = fpreds['data']['is_drift'][f]\n",
    "    stat_val, p_val = fpreds['data']['distance'][f], fpreds['data']['p_val'][f]\n",
    "    print(f'{fname} -- Drift? {labels[is_drift]} -- {stat} {stat_val:.3f} -- p-value {p_val:.3f}')"
   ]
  },
  {
   "attachments": {},
   "cell_type": "markdown",
   "metadata": {},
   "source": [
    "##### Detect Model Drift:"
   ]
  },
  {
   "cell_type": "code",
   "execution_count": 136,
   "metadata": {},
   "outputs": [],
   "source": [
    "# Evidently can be used to check the model drift\n",
    "# You can calculate the performance metrics for the model and pickle it. Then at the time of monitoring check for how much deviation the scoring data is from the actual obsered metrics. if the deviation is more than +-10% (or any threshold) then flag it as model drift and proceed for retraining (same process used in evidently library)"
   ]
  },
  {
   "cell_type": "code",
   "execution_count": 90,
   "metadata": {},
   "outputs": [
    {
     "data": {
      "text/html": [
       "<div>\n",
       "<style scoped>\n",
       "    .dataframe tbody tr th:only-of-type {\n",
       "        vertical-align: middle;\n",
       "    }\n",
       "\n",
       "    .dataframe tbody tr th {\n",
       "        vertical-align: top;\n",
       "    }\n",
       "\n",
       "    .dataframe thead th {\n",
       "        text-align: right;\n",
       "    }\n",
       "</style>\n",
       "<table border=\"1\" class=\"dataframe\">\n",
       "  <thead>\n",
       "    <tr style=\"text-align: right;\">\n",
       "      <th></th>\n",
       "      <th>Gender</th>\n",
       "      <th>Married</th>\n",
       "      <th>Dependents</th>\n",
       "      <th>Education</th>\n",
       "      <th>Self_Employed</th>\n",
       "      <th>ApplicantIncome</th>\n",
       "      <th>CoapplicantIncome</th>\n",
       "      <th>LoanAmount</th>\n",
       "      <th>Loan_Amount_Term</th>\n",
       "      <th>Property_Area</th>\n",
       "    </tr>\n",
       "  </thead>\n",
       "  <tbody>\n",
       "    <tr>\n",
       "      <th>257</th>\n",
       "      <td>1</td>\n",
       "      <td>1</td>\n",
       "      <td>3</td>\n",
       "      <td>0</td>\n",
       "      <td>0</td>\n",
       "      <td>5250</td>\n",
       "      <td>0.0</td>\n",
       "      <td>94.0</td>\n",
       "      <td>360.0</td>\n",
       "      <td>2</td>\n",
       "    </tr>\n",
       "    <tr>\n",
       "      <th>299</th>\n",
       "      <td>1</td>\n",
       "      <td>1</td>\n",
       "      <td>1</td>\n",
       "      <td>0</td>\n",
       "      <td>0</td>\n",
       "      <td>2014</td>\n",
       "      <td>2925.0</td>\n",
       "      <td>113.0</td>\n",
       "      <td>360.0</td>\n",
       "      <td>2</td>\n",
       "    </tr>\n",
       "    <tr>\n",
       "      <th>283</th>\n",
       "      <td>0</td>\n",
       "      <td>0</td>\n",
       "      <td>0</td>\n",
       "      <td>0</td>\n",
       "      <td>0</td>\n",
       "      <td>1811</td>\n",
       "      <td>1666.0</td>\n",
       "      <td>54.0</td>\n",
       "      <td>360.0</td>\n",
       "      <td>2</td>\n",
       "    </tr>\n",
       "    <tr>\n",
       "      <th>451</th>\n",
       "      <td>1</td>\n",
       "      <td>1</td>\n",
       "      <td>2</td>\n",
       "      <td>1</td>\n",
       "      <td>0</td>\n",
       "      <td>1958</td>\n",
       "      <td>1456.0</td>\n",
       "      <td>60.0</td>\n",
       "      <td>300.0</td>\n",
       "      <td>2</td>\n",
       "    </tr>\n",
       "    <tr>\n",
       "      <th>192</th>\n",
       "      <td>1</td>\n",
       "      <td>1</td>\n",
       "      <td>0</td>\n",
       "      <td>1</td>\n",
       "      <td>0</td>\n",
       "      <td>6033</td>\n",
       "      <td>0.0</td>\n",
       "      <td>160.0</td>\n",
       "      <td>360.0</td>\n",
       "      <td>2</td>\n",
       "    </tr>\n",
       "  </tbody>\n",
       "</table>\n",
       "</div>"
      ],
      "text/plain": [
       "     Gender  Married  Dependents  Education  Self_Employed  ApplicantIncome  \\\n",
       "257       1        1           3          0              0             5250   \n",
       "299       1        1           1          0              0             2014   \n",
       "283       0        0           0          0              0             1811   \n",
       "451       1        1           2          1              0             1958   \n",
       "192       1        1           0          1              0             6033   \n",
       "\n",
       "     CoapplicantIncome  LoanAmount  Loan_Amount_Term  Property_Area  \n",
       "257                0.0        94.0             360.0              2  \n",
       "299             2925.0       113.0             360.0              2  \n",
       "283             1666.0        54.0             360.0              2  \n",
       "451             1456.0        60.0             300.0              2  \n",
       "192                0.0       160.0             360.0              2  "
      ]
     },
     "execution_count": 90,
     "metadata": {},
     "output_type": "execute_result"
    }
   ],
   "source": [
    "x_train.head()"
   ]
  },
  {
   "cell_type": "code",
   "execution_count": 91,
   "metadata": {},
   "outputs": [],
   "source": [
    "# Train a model on the training data and save the model metrics & the model\n",
    "# Then use the categorical mapping file to prepare the test data and score it using the trained model\n",
    "# compare the train and test performance (also their deviation)\n",
    "# Then change the test data a bit and then do the above two steps again.\n",
    "# wrap the above steps as a function that will return model drift or not based on train and test performance deviation"
   ]
  },
  {
   "cell_type": "code",
   "execution_count": 92,
   "metadata": {},
   "outputs": [
    {
     "data": {
      "text/plain": [
       "0.7923497267759563"
      ]
     },
     "execution_count": 92,
     "metadata": {},
     "output_type": "execute_result"
    }
   ],
   "source": [
    "# RF\n",
    "from sklearn.ensemble import RandomForestClassifier\n",
    "from sklearn import metrics \n",
    "\n",
    "rf = RandomForestClassifier(max_depth=8, min_samples_split=10)\n",
    "rf.fit(x_train,y_train)\n",
    "rf.score(x_train,y_train)"
   ]
  },
  {
   "cell_type": "code",
   "execution_count": 93,
   "metadata": {},
   "outputs": [
    {
     "name": "stdout",
     "output_type": "stream",
     "text": [
      "              precision    recall  f1-score   support\n",
      "\n",
      "           N       0.97      0.31      0.47       109\n",
      "           Y       0.77      1.00      0.87       257\n",
      "\n",
      "    accuracy                           0.79       366\n",
      "   macro avg       0.87      0.65      0.67       366\n",
      "weighted avg       0.83      0.79      0.75       366\n",
      "\n"
     ]
    },
    {
     "data": {
      "text/plain": [
       "<sklearn.metrics._plot.confusion_matrix.ConfusionMatrixDisplay at 0x7fd5e4d23580>"
      ]
     },
     "execution_count": 93,
     "metadata": {},
     "output_type": "execute_result"
    },
    {
     "data": {
      "image/png": "[encoded data removed]",
      "text/plain": [
       "<Figure size 432x288 with 2 Axes>"
      ]
     },
     "metadata": {
      "needs_background": "light"
     },
     "output_type": "display_data"
    }
   ],
   "source": [
    "y_train_encode = [1 if i == 'Y' else 0 for i in y_train.values]\n",
    "y_pred = rf.predict_proba(x_train)[:,1]\n",
    "y_pred_class = rf.predict(x_train)\n",
    "y_pred_class_encode = [1 if i == 'Y' else 0 for i in y_pred_class]\n",
    "print(metrics.classification_report(y_train,y_pred_class))\n",
    "metrics.plot_confusion_matrix(rf,x_train,y_train)\n"
   ]
  },
  {
   "cell_type": "code",
   "execution_count": 94,
   "metadata": {},
   "outputs": [
    {
     "name": "stdout",
     "output_type": "stream",
     "text": [
      "{'Precision': 0.77, 'Recall': 1.0, 'Roc-Auc': 0.96}\n"
     ]
    }
   ],
   "source": [
    "# logging the training performance metrics and the trained model\n",
    "precision = metrics.precision_score(y_train_encode,y_pred_class_encode)\n",
    "recall = metrics.recall_score(y_train_encode,y_pred_class_encode)\n",
    "roc_auc = metrics.roc_auc_score(y_train_encode,y_pred)\n",
    "\n",
    "training_performance_metrics = dict()\n",
    "training_performance_metrics['Precision'] = np.round(precision,2)\n",
    "training_performance_metrics['Recall'] = np.round(recall,2)\n",
    "training_performance_metrics['Roc-Auc'] = np.round(roc_auc,2)\n",
    "\n",
    "print(training_performance_metrics)\n",
    "\n",
    "with open('Training_Perfrom_Metrics.pkl','wb') as F:\n",
    "    pickle.dump(training_performance_metrics,F)\n",
    "\n",
    "with open('RF_Loan_Model.pkl','wb') as F:\n",
    "    pickle.dump(rf,F)\n"
   ]
  },
  {
   "cell_type": "code",
   "execution_count": 95,
   "metadata": {},
   "outputs": [],
   "source": [
    "# Function to check model drift\n",
    "def check_model_drift(ref_metric_dict,cur_metric_dict,type='classification',tol=0.1):\n",
    "    if type == 'classification':\n",
    "        precision_change = abs((cur_metric_dict['Precision']-ref_metric_dict['Precision'])/ref_metric_dict['Precision'])\n",
    "        recall_change = abs((cur_metric_dict['Recall']-ref_metric_dict['Recall'])/ref_metric_dict['Recall'])\n",
    "        roc_auc_change = abs((cur_metric_dict['Roc-Auc']-ref_metric_dict['Roc-Auc'])/ref_metric_dict['Roc-Auc'])\n",
    "\n",
    "        counter = 0\n",
    "        for i in [precision_change,recall_change,roc_auc_change]:\n",
    "            if i > 0.1:\n",
    "                counter += 1\n",
    "\n",
    "        if counter > 0:\n",
    "            print(\"ALERT! There is a model drift.\")\n",
    "            print(\"Change in Precision: \"+ str(np.round(100*precision_change,2))+\"%\")\n",
    "            print(\"Change in Recall: \"+ str(np.round(100*recall_change,2))+\"%\")\n",
    "            print(\"Change in Roc-Auc: \"+ str(np.round(100*roc_auc_change,2))+\"%\")\n",
    "            return 1\n",
    "        else:\n",
    "            print(\"There is no model drift.\")\n",
    "            return 0\n",
    "\n",
    "    else:\n",
    "        pass "
   ]
  },
  {
   "cell_type": "code",
   "execution_count": 98,
   "metadata": {},
   "outputs": [
    {
     "data": {
      "text/plain": [
       "{'Precision': 0.69, 'Recall': 1.0, 'Roc-Auc': 0.96}"
      ]
     },
     "execution_count": 98,
     "metadata": {},
     "output_type": "execute_result"
    }
   ],
   "source": [
    "test = training_performance_metrics.copy()\n",
    "test['Precision'] = 0.69\n",
    "test"
   ]
  },
  {
   "cell_type": "code",
   "execution_count": 99,
   "metadata": {},
   "outputs": [
    {
     "name": "stdout",
     "output_type": "stream",
     "text": [
      "ALERT! There is a model drift.\n",
      "Change in Precision: 10.39%\n",
      "Change in Recall: 0.0%\n",
      "Change in Roc-Auc: 0.0%\n"
     ]
    },
    {
     "data": {
      "text/plain": [
       "1"
      ]
     },
     "execution_count": 99,
     "metadata": {},
     "output_type": "execute_result"
    }
   ],
   "source": [
    "check_model_drift(training_performance_metrics,test)"
   ]
  },
  {
   "attachments": {},
   "cell_type": "markdown",
   "metadata": {},
   "source": [
    "Applying the preprocessing and preparing the test data for scoring and model drift checking"
   ]
  },
  {
   "cell_type": "code",
   "execution_count": 100,
   "metadata": {},
   "outputs": [
    {
     "name": "stdout",
     "output_type": "stream",
     "text": [
      "(157, 10)\n"
     ]
    },
    {
     "data": {
      "text/html": [
       "<div>\n",
       "<style scoped>\n",
       "    .dataframe tbody tr th:only-of-type {\n",
       "        vertical-align: middle;\n",
       "    }\n",
       "\n",
       "    .dataframe tbody tr th {\n",
       "        vertical-align: top;\n",
       "    }\n",
       "\n",
       "    .dataframe thead th {\n",
       "        text-align: right;\n",
       "    }\n",
       "</style>\n",
       "<table border=\"1\" class=\"dataframe\">\n",
       "  <thead>\n",
       "    <tr style=\"text-align: right;\">\n",
       "      <th></th>\n",
       "      <th>Gender</th>\n",
       "      <th>Married</th>\n",
       "      <th>Dependents</th>\n",
       "      <th>Education</th>\n",
       "      <th>Self_Employed</th>\n",
       "      <th>ApplicantIncome</th>\n",
       "      <th>CoapplicantIncome</th>\n",
       "      <th>LoanAmount</th>\n",
       "      <th>Loan_Amount_Term</th>\n",
       "      <th>Property_Area</th>\n",
       "    </tr>\n",
       "  </thead>\n",
       "  <tbody>\n",
       "    <tr>\n",
       "      <th>483</th>\n",
       "      <td>Male</td>\n",
       "      <td>Yes</td>\n",
       "      <td>0</td>\n",
       "      <td>Graduate</td>\n",
       "      <td>No</td>\n",
       "      <td>10833</td>\n",
       "      <td>0.0</td>\n",
       "      <td>234.0</td>\n",
       "      <td>360.0</td>\n",
       "      <td>Semiurban</td>\n",
       "    </tr>\n",
       "    <tr>\n",
       "      <th>518</th>\n",
       "      <td>Male</td>\n",
       "      <td>No</td>\n",
       "      <td>0</td>\n",
       "      <td>Graduate</td>\n",
       "      <td>No</td>\n",
       "      <td>4683</td>\n",
       "      <td>1915.0</td>\n",
       "      <td>185.0</td>\n",
       "      <td>360.0</td>\n",
       "      <td>Semiurban</td>\n",
       "    </tr>\n",
       "    <tr>\n",
       "      <th>452</th>\n",
       "      <td>Male</td>\n",
       "      <td>Yes</td>\n",
       "      <td>0</td>\n",
       "      <td>Graduate</td>\n",
       "      <td>No</td>\n",
       "      <td>3948</td>\n",
       "      <td>1733.0</td>\n",
       "      <td>149.0</td>\n",
       "      <td>360.0</td>\n",
       "      <td>Rural</td>\n",
       "    </tr>\n",
       "    <tr>\n",
       "      <th>442</th>\n",
       "      <td>Male</td>\n",
       "      <td>No</td>\n",
       "      <td>3+</td>\n",
       "      <td>Not Graduate</td>\n",
       "      <td>No</td>\n",
       "      <td>4707</td>\n",
       "      <td>1993.0</td>\n",
       "      <td>148.0</td>\n",
       "      <td>360.0</td>\n",
       "      <td>Semiurban</td>\n",
       "    </tr>\n",
       "    <tr>\n",
       "      <th>87</th>\n",
       "      <td>Male</td>\n",
       "      <td>Yes</td>\n",
       "      <td>0</td>\n",
       "      <td>Graduate</td>\n",
       "      <td>No</td>\n",
       "      <td>2500</td>\n",
       "      <td>2118.0</td>\n",
       "      <td>104.0</td>\n",
       "      <td>360.0</td>\n",
       "      <td>Semiurban</td>\n",
       "    </tr>\n",
       "  </tbody>\n",
       "</table>\n",
       "</div>"
      ],
      "text/plain": [
       "    Gender Married Dependents     Education Self_Employed  ApplicantIncome  \\\n",
       "483   Male     Yes          0      Graduate            No            10833   \n",
       "518   Male      No          0      Graduate            No             4683   \n",
       "452   Male     Yes          0      Graduate            No             3948   \n",
       "442   Male      No         3+  Not Graduate            No             4707   \n",
       "87    Male     Yes          0      Graduate            No             2500   \n",
       "\n",
       "     CoapplicantIncome  LoanAmount  Loan_Amount_Term Property_Area  \n",
       "483                0.0       234.0             360.0     Semiurban  \n",
       "518             1915.0       185.0             360.0     Semiurban  \n",
       "452             1733.0       149.0             360.0         Rural  \n",
       "442             1993.0       148.0             360.0     Semiurban  \n",
       "87              2118.0       104.0             360.0     Semiurban  "
      ]
     },
     "execution_count": 100,
     "metadata": {},
     "output_type": "execute_result"
    }
   ],
   "source": [
    "print(x_test.shape)\n",
    "x_test.head()"
   ]
  },
  {
   "cell_type": "code",
   "execution_count": 101,
   "metadata": {},
   "outputs": [],
   "source": [
    "x_test_with_noise = x_test.copy()"
   ]
  },
  {
   "cell_type": "code",
   "execution_count": 102,
   "metadata": {},
   "outputs": [],
   "source": [
    "# Adding noise to the data\n",
    "x_test_with_noise.iloc[100:110,0] = 'None'\n",
    "x_test_with_noise.iloc[120:130,0] = 'None'\n",
    "\n",
    "x_test_with_noise.iloc[100:110,7] = 1500\n",
    "x_test_with_noise.iloc[120:130,7] = 1600\n",
    "\n",
    "x_test_with_noise.iloc[90:110,6] = 7000\n",
    "x_test_with_noise.iloc[120:130,6] = 7000"
   ]
  },
  {
   "cell_type": "code",
   "execution_count": 103,
   "metadata": {},
   "outputs": [
    {
     "data": {
      "text/html": [
       "<div>\n",
       "<style scoped>\n",
       "    .dataframe tbody tr th:only-of-type {\n",
       "        vertical-align: middle;\n",
       "    }\n",
       "\n",
       "    .dataframe tbody tr th {\n",
       "        vertical-align: top;\n",
       "    }\n",
       "\n",
       "    .dataframe thead th {\n",
       "        text-align: right;\n",
       "    }\n",
       "</style>\n",
       "<table border=\"1\" class=\"dataframe\">\n",
       "  <thead>\n",
       "    <tr style=\"text-align: right;\">\n",
       "      <th></th>\n",
       "      <th>Gender</th>\n",
       "      <th>Married</th>\n",
       "      <th>Dependents</th>\n",
       "      <th>Education</th>\n",
       "      <th>Self_Employed</th>\n",
       "      <th>ApplicantIncome</th>\n",
       "      <th>CoapplicantIncome</th>\n",
       "      <th>LoanAmount</th>\n",
       "      <th>Loan_Amount_Term</th>\n",
       "      <th>Property_Area</th>\n",
       "    </tr>\n",
       "  </thead>\n",
       "  <tbody>\n",
       "    <tr>\n",
       "      <th>483</th>\n",
       "      <td>Male</td>\n",
       "      <td>Yes</td>\n",
       "      <td>0</td>\n",
       "      <td>Graduate</td>\n",
       "      <td>No</td>\n",
       "      <td>10833</td>\n",
       "      <td>0.0</td>\n",
       "      <td>234.0</td>\n",
       "      <td>360.0</td>\n",
       "      <td>Semiurban</td>\n",
       "    </tr>\n",
       "    <tr>\n",
       "      <th>518</th>\n",
       "      <td>Male</td>\n",
       "      <td>No</td>\n",
       "      <td>0</td>\n",
       "      <td>Graduate</td>\n",
       "      <td>No</td>\n",
       "      <td>4683</td>\n",
       "      <td>1915.0</td>\n",
       "      <td>185.0</td>\n",
       "      <td>360.0</td>\n",
       "      <td>Semiurban</td>\n",
       "    </tr>\n",
       "    <tr>\n",
       "      <th>452</th>\n",
       "      <td>Male</td>\n",
       "      <td>Yes</td>\n",
       "      <td>0</td>\n",
       "      <td>Graduate</td>\n",
       "      <td>No</td>\n",
       "      <td>3948</td>\n",
       "      <td>1733.0</td>\n",
       "      <td>149.0</td>\n",
       "      <td>360.0</td>\n",
       "      <td>Rural</td>\n",
       "    </tr>\n",
       "    <tr>\n",
       "      <th>442</th>\n",
       "      <td>Male</td>\n",
       "      <td>No</td>\n",
       "      <td>3+</td>\n",
       "      <td>Not Graduate</td>\n",
       "      <td>No</td>\n",
       "      <td>4707</td>\n",
       "      <td>1993.0</td>\n",
       "      <td>148.0</td>\n",
       "      <td>360.0</td>\n",
       "      <td>Semiurban</td>\n",
       "    </tr>\n",
       "    <tr>\n",
       "      <th>87</th>\n",
       "      <td>Male</td>\n",
       "      <td>Yes</td>\n",
       "      <td>0</td>\n",
       "      <td>Graduate</td>\n",
       "      <td>No</td>\n",
       "      <td>2500</td>\n",
       "      <td>2118.0</td>\n",
       "      <td>104.0</td>\n",
       "      <td>360.0</td>\n",
       "      <td>Semiurban</td>\n",
       "    </tr>\n",
       "  </tbody>\n",
       "</table>\n",
       "</div>"
      ],
      "text/plain": [
       "    Gender Married Dependents     Education Self_Employed  ApplicantIncome  \\\n",
       "483   Male     Yes          0      Graduate            No            10833   \n",
       "518   Male      No          0      Graduate            No             4683   \n",
       "452   Male     Yes          0      Graduate            No             3948   \n",
       "442   Male      No         3+  Not Graduate            No             4707   \n",
       "87    Male     Yes          0      Graduate            No             2500   \n",
       "\n",
       "     CoapplicantIncome  LoanAmount  Loan_Amount_Term Property_Area  \n",
       "483                0.0       234.0             360.0     Semiurban  \n",
       "518             1915.0       185.0             360.0     Semiurban  \n",
       "452             1733.0       149.0             360.0         Rural  \n",
       "442             1993.0       148.0             360.0     Semiurban  \n",
       "87              2118.0       104.0             360.0     Semiurban  "
      ]
     },
     "execution_count": 103,
     "metadata": {},
     "output_type": "execute_result"
    }
   ],
   "source": [
    "x_test_with_noise.head()"
   ]
  },
  {
   "cell_type": "code",
   "execution_count": 104,
   "metadata": {},
   "outputs": [],
   "source": [
    "def prepare_data(x_t):\n",
    "    x_t = x_t.dropna()\n",
    "    cat_features = ['Gender','Married','Dependents','Education','Self_Employed','Property_Area']\n",
    "\n",
    "    for cat_var in cat_features:\n",
    "        fileName = cat_var+\"_mapping.pkl\"\n",
    "        with open(fileName,'rb') as f:\n",
    "            obj = pickle.load(f)\n",
    "\n",
    "        # Checking if any new categories in the columns and encoding them with -99\n",
    "        ref_cats = list(obj.keys())\n",
    "        cur_cats = x_t[cat_var].unique().tolist()\n",
    "\n",
    "        unseen_cats = list(set(cur_cats).difference(set(ref_cats)))\n",
    "        for cat in unseen_cats:\n",
    "            if cat not in obj.keys():\n",
    "                obj[cat] = -99\n",
    "        x_t[cat_var] = x_t[cat_var].map(obj)\n",
    "    \n",
    "    return x_t "
   ]
  },
  {
   "cell_type": "code",
   "execution_count": 105,
   "metadata": {},
   "outputs": [
    {
     "name": "stdout",
     "output_type": "stream",
     "text": [
      "(157, 10)\n"
     ]
    },
    {
     "data": {
      "text/html": [
       "<div>\n",
       "<style scoped>\n",
       "    .dataframe tbody tr th:only-of-type {\n",
       "        vertical-align: middle;\n",
       "    }\n",
       "\n",
       "    .dataframe tbody tr th {\n",
       "        vertical-align: top;\n",
       "    }\n",
       "\n",
       "    .dataframe thead th {\n",
       "        text-align: right;\n",
       "    }\n",
       "</style>\n",
       "<table border=\"1\" class=\"dataframe\">\n",
       "  <thead>\n",
       "    <tr style=\"text-align: right;\">\n",
       "      <th></th>\n",
       "      <th>Gender</th>\n",
       "      <th>Married</th>\n",
       "      <th>Dependents</th>\n",
       "      <th>Education</th>\n",
       "      <th>Self_Employed</th>\n",
       "      <th>ApplicantIncome</th>\n",
       "      <th>CoapplicantIncome</th>\n",
       "      <th>LoanAmount</th>\n",
       "      <th>Loan_Amount_Term</th>\n",
       "      <th>Property_Area</th>\n",
       "    </tr>\n",
       "  </thead>\n",
       "  <tbody>\n",
       "    <tr>\n",
       "      <th>483</th>\n",
       "      <td>1</td>\n",
       "      <td>1</td>\n",
       "      <td>0</td>\n",
       "      <td>0</td>\n",
       "      <td>0</td>\n",
       "      <td>10833</td>\n",
       "      <td>0.0</td>\n",
       "      <td>234.0</td>\n",
       "      <td>360.0</td>\n",
       "      <td>1</td>\n",
       "    </tr>\n",
       "    <tr>\n",
       "      <th>518</th>\n",
       "      <td>1</td>\n",
       "      <td>0</td>\n",
       "      <td>0</td>\n",
       "      <td>0</td>\n",
       "      <td>0</td>\n",
       "      <td>4683</td>\n",
       "      <td>1915.0</td>\n",
       "      <td>185.0</td>\n",
       "      <td>360.0</td>\n",
       "      <td>1</td>\n",
       "    </tr>\n",
       "    <tr>\n",
       "      <th>452</th>\n",
       "      <td>1</td>\n",
       "      <td>1</td>\n",
       "      <td>0</td>\n",
       "      <td>0</td>\n",
       "      <td>0</td>\n",
       "      <td>3948</td>\n",
       "      <td>1733.0</td>\n",
       "      <td>149.0</td>\n",
       "      <td>360.0</td>\n",
       "      <td>0</td>\n",
       "    </tr>\n",
       "    <tr>\n",
       "      <th>442</th>\n",
       "      <td>1</td>\n",
       "      <td>0</td>\n",
       "      <td>3</td>\n",
       "      <td>1</td>\n",
       "      <td>0</td>\n",
       "      <td>4707</td>\n",
       "      <td>1993.0</td>\n",
       "      <td>148.0</td>\n",
       "      <td>360.0</td>\n",
       "      <td>1</td>\n",
       "    </tr>\n",
       "    <tr>\n",
       "      <th>87</th>\n",
       "      <td>1</td>\n",
       "      <td>1</td>\n",
       "      <td>0</td>\n",
       "      <td>0</td>\n",
       "      <td>0</td>\n",
       "      <td>2500</td>\n",
       "      <td>2118.0</td>\n",
       "      <td>104.0</td>\n",
       "      <td>360.0</td>\n",
       "      <td>1</td>\n",
       "    </tr>\n",
       "  </tbody>\n",
       "</table>\n",
       "</div>"
      ],
      "text/plain": [
       "     Gender  Married  Dependents  Education  Self_Employed  ApplicantIncome  \\\n",
       "483       1        1           0          0              0            10833   \n",
       "518       1        0           0          0              0             4683   \n",
       "452       1        1           0          0              0             3948   \n",
       "442       1        0           3          1              0             4707   \n",
       "87        1        1           0          0              0             2500   \n",
       "\n",
       "     CoapplicantIncome  LoanAmount  Loan_Amount_Term  Property_Area  \n",
       "483                0.0       234.0             360.0              1  \n",
       "518             1915.0       185.0             360.0              1  \n",
       "452             1733.0       149.0             360.0              0  \n",
       "442             1993.0       148.0             360.0              1  \n",
       "87              2118.0       104.0             360.0              1  "
      ]
     },
     "execution_count": 105,
     "metadata": {},
     "output_type": "execute_result"
    }
   ],
   "source": [
    "# temp = x_test.copy()\n",
    "temp = x_test_with_noise.copy()\n",
    "x_test_prepared = prepare_data(temp)\n",
    "print(x_test_prepared.shape)\n",
    "x_test_prepared.head()"
   ]
  },
  {
   "cell_type": "code",
   "execution_count": 106,
   "metadata": {},
   "outputs": [
    {
     "data": {
      "text/plain": [
       " 1     115\n",
       " 0      22\n",
       "-99     20\n",
       "Name: Gender, dtype: int64"
      ]
     },
     "execution_count": 106,
     "metadata": {},
     "output_type": "execute_result"
    }
   ],
   "source": [
    "x_test_prepared.Gender.value_counts()"
   ]
  },
  {
   "cell_type": "code",
   "execution_count": null,
   "metadata": {},
   "outputs": [],
   "source": []
  },
  {
   "cell_type": "code",
   "execution_count": 108,
   "metadata": {},
   "outputs": [
    {
     "name": "stdout",
     "output_type": "stream",
     "text": [
      "50\n",
      "(51, 1)\n",
      "(51,)\n",
      "              precision    recall  f1-score   support\n",
      "\n",
      "           N       1.00      0.12      0.21        17\n",
      "           Y       0.69      1.00      0.82        34\n",
      "\n",
      "    accuracy                           0.71        51\n",
      "   macro avg       0.85      0.56      0.51        51\n",
      "weighted avg       0.80      0.71      0.62        51\n",
      "\n",
      "ALERT! There is a model drift.\n",
      "Change in Precision: 9.89%\n",
      "Change in Recall: 0.0%\n",
      "Change in Roc-Auc: 30.07%\n",
      "100\n",
      "(101, 1)\n",
      "(101,)\n",
      "              precision    recall  f1-score   support\n",
      "\n",
      "           N       0.80      0.12      0.21        33\n",
      "           Y       0.70      0.99      0.82        68\n",
      "\n",
      "    accuracy                           0.70       101\n",
      "   macro avg       0.75      0.55      0.51       101\n",
      "weighted avg       0.73      0.70      0.62       101\n",
      "\n",
      "ALERT! There is a model drift.\n",
      "Change in Precision: 9.36%\n",
      "Change in Recall: 1.47%\n",
      "Change in Roc-Auc: 35.24%\n",
      "150\n",
      "(151, 1)\n",
      "(151,)\n",
      "              precision    recall  f1-score   support\n",
      "\n",
      "           N       0.53      0.17      0.26        47\n",
      "           Y       0.71      0.93      0.81       104\n",
      "\n",
      "    accuracy                           0.70       151\n",
      "   macro avg       0.62      0.55      0.53       151\n",
      "weighted avg       0.66      0.70      0.64       151\n",
      "\n",
      "ALERT! There is a model drift.\n",
      "Change in Precision: 7.37%\n",
      "Change in Recall: 6.73%\n",
      "Change in Roc-Auc: 36.17%\n"
     ]
    },
    {
     "data": {
      "image/png": "[encoded data removed]",
      "text/plain": [
       "<Figure size 432x288 with 2 Axes>"
      ]
     },
     "metadata": {
      "needs_background": "light"
     },
     "output_type": "display_data"
    },
    {
     "data": {
      "image/png": "[encoded data removed]",
      "text/plain": [
       "<Figure size 432x288 with 2 Axes>"
      ]
     },
     "metadata": {
      "needs_background": "light"
     },
     "output_type": "display_data"
    },
    {
     "data": {
      "image/png": "[encoded data removed]",
      "text/plain": [
       "<Figure size 432x288 with 2 Axes>"
      ]
     },
     "metadata": {
      "needs_background": "light"
     },
     "output_type": "display_data"
    }
   ],
   "source": [
    "# Create a simulation that predicts every row and after 50 rows gets the performance metrics for the same and compare it with reference metrics for model drift\n",
    "x_test_raw = x_test_prepared.copy()\n",
    "y_test_raw = y_test.copy()\n",
    "\n",
    "for i in range(x_test_prepared.shape[0]): # x_test_prepared.shape[0]\n",
    "    temp = x_test_prepared.iloc[i:i+1]    \n",
    "    \n",
    "    # loading the trained model\n",
    "    with open('RF_Loan_Model.pkl','rb') as F:\n",
    "        model = pickle.load(F)\n",
    "    \n",
    "    # Loading the Training performance metrics\n",
    "    with open('Training_Perfrom_Metrics.pkl', 'rb') as F:\n",
    "        train_performance_metrics = pickle.load(F)\n",
    "    \n",
    "    # Getting predictions on the test data\n",
    "    temp['prediction_prob'] = model.predict_proba(x_test_prepared.iloc[i:i+1])[:,1]\n",
    "    temp['prediction_class'] = model.predict(x_test_prepared.iloc[i:i+1])\n",
    "    # display(temp)\n",
    "\n",
    "    # Concatenating the dataframe\n",
    "    if i == 0:\n",
    "        df_log = temp.copy()\n",
    "    else:\n",
    "        df_log = pd.concat([df_log,temp],axis=0)\n",
    "\n",
    "    # After every 50 predictions get the performance metrics and check for model drift\n",
    "    if i % 50 == 0 and i != 0:\n",
    "        print(i)\n",
    "        y_temp = y_test.iloc[:i+1,:]\n",
    "        y_test_encode = [1 if i == 'Y' else 0 for i in y_temp.values]\n",
    "        y_pred = df_log['prediction_prob'].values\n",
    "        y_pred_class = df_log['prediction_class'].values\n",
    "        y_pred_class_encode = [1 if i == 'Y' else 0 for i in y_pred_class]\n",
    "        print(y_temp.shape)\n",
    "        print(y_pred_class.shape)\n",
    "        print(metrics.classification_report(y_temp,y_pred_class))\n",
    "        metrics.plot_confusion_matrix(rf,x_test_prepared.iloc[:i+1,:],y_temp)\n",
    "\n",
    "        precision = metrics.precision_score(y_test_encode,y_pred_class_encode)\n",
    "        recall = metrics.recall_score(y_test_encode,y_pred_class_encode)\n",
    "        roc_auc = metrics.roc_auc_score(y_test_encode,y_pred)\n",
    "\n",
    "        ref_perform_metric = dict()\n",
    "        ref_perform_metric['Precision'] = precision\n",
    "        ref_perform_metric['Recall'] = recall\n",
    "        ref_perform_metric['Roc-Auc'] = roc_auc\n",
    "\n",
    "        check_model_drift(train_performance_metrics,ref_perform_metric)\n"
   ]
  },
  {
   "cell_type": "code",
   "execution_count": 62,
   "metadata": {},
   "outputs": [
    {
     "name": "stdout",
     "output_type": "stream",
     "text": [
      "(157, 12)\n"
     ]
    },
    {
     "data": {
      "text/html": [
       "<div>\n",
       "<style scoped>\n",
       "    .dataframe tbody tr th:only-of-type {\n",
       "        vertical-align: middle;\n",
       "    }\n",
       "\n",
       "    .dataframe tbody tr th {\n",
       "        vertical-align: top;\n",
       "    }\n",
       "\n",
       "    .dataframe thead th {\n",
       "        text-align: right;\n",
       "    }\n",
       "</style>\n",
       "<table border=\"1\" class=\"dataframe\">\n",
       "  <thead>\n",
       "    <tr style=\"text-align: right;\">\n",
       "      <th></th>\n",
       "      <th>Gender</th>\n",
       "      <th>Married</th>\n",
       "      <th>Dependents</th>\n",
       "      <th>Education</th>\n",
       "      <th>Self_Employed</th>\n",
       "      <th>ApplicantIncome</th>\n",
       "      <th>CoapplicantIncome</th>\n",
       "      <th>LoanAmount</th>\n",
       "      <th>Loan_Amount_Term</th>\n",
       "      <th>Property_Area</th>\n",
       "      <th>prediction_prob</th>\n",
       "      <th>prediction_class</th>\n",
       "    </tr>\n",
       "  </thead>\n",
       "  <tbody>\n",
       "    <tr>\n",
       "      <th>247</th>\n",
       "      <td>1</td>\n",
       "      <td>1</td>\n",
       "      <td>1</td>\n",
       "      <td>1</td>\n",
       "      <td>0</td>\n",
       "      <td>6608</td>\n",
       "      <td>0.0</td>\n",
       "      <td>137.0</td>\n",
       "      <td>180.0</td>\n",
       "      <td>2</td>\n",
       "      <td>0.705287</td>\n",
       "      <td>Y</td>\n",
       "    </tr>\n",
       "    <tr>\n",
       "      <th>83</th>\n",
       "      <td>1</td>\n",
       "      <td>1</td>\n",
       "      <td>0</td>\n",
       "      <td>0</td>\n",
       "      <td>0</td>\n",
       "      <td>6000</td>\n",
       "      <td>2250.0</td>\n",
       "      <td>265.0</td>\n",
       "      <td>360.0</td>\n",
       "      <td>1</td>\n",
       "      <td>0.842968</td>\n",
       "      <td>Y</td>\n",
       "    </tr>\n",
       "    <tr>\n",
       "      <th>22</th>\n",
       "      <td>1</td>\n",
       "      <td>1</td>\n",
       "      <td>0</td>\n",
       "      <td>1</td>\n",
       "      <td>0</td>\n",
       "      <td>2600</td>\n",
       "      <td>1911.0</td>\n",
       "      <td>116.0</td>\n",
       "      <td>360.0</td>\n",
       "      <td>1</td>\n",
       "      <td>0.894557</td>\n",
       "      <td>Y</td>\n",
       "    </tr>\n",
       "    <tr>\n",
       "      <th>444</th>\n",
       "      <td>1</td>\n",
       "      <td>1</td>\n",
       "      <td>0</td>\n",
       "      <td>0</td>\n",
       "      <td>0</td>\n",
       "      <td>7333</td>\n",
       "      <td>8333.0</td>\n",
       "      <td>175.0</td>\n",
       "      <td>300.0</td>\n",
       "      <td>0</td>\n",
       "      <td>0.541696</td>\n",
       "      <td>Y</td>\n",
       "    </tr>\n",
       "    <tr>\n",
       "      <th>499</th>\n",
       "      <td>1</td>\n",
       "      <td>0</td>\n",
       "      <td>0</td>\n",
       "      <td>0</td>\n",
       "      <td>0</td>\n",
       "      <td>6283</td>\n",
       "      <td>4416.0</td>\n",
       "      <td>209.0</td>\n",
       "      <td>360.0</td>\n",
       "      <td>0</td>\n",
       "      <td>0.617272</td>\n",
       "      <td>Y</td>\n",
       "    </tr>\n",
       "  </tbody>\n",
       "</table>\n",
       "</div>"
      ],
      "text/plain": [
       "     Gender  Married  Dependents  Education  Self_Employed  ApplicantIncome  \\\n",
       "247       1        1           1          1              0             6608   \n",
       "83        1        1           0          0              0             6000   \n",
       "22        1        1           0          1              0             2600   \n",
       "444       1        1           0          0              0             7333   \n",
       "499       1        0           0          0              0             6283   \n",
       "\n",
       "     CoapplicantIncome  LoanAmount  Loan_Amount_Term  Property_Area  \\\n",
       "247                0.0       137.0             180.0              2   \n",
       "83              2250.0       265.0             360.0              1   \n",
       "22              1911.0       116.0             360.0              1   \n",
       "444             8333.0       175.0             300.0              0   \n",
       "499             4416.0       209.0             360.0              0   \n",
       "\n",
       "     prediction_prob prediction_class  \n",
       "247         0.705287                Y  \n",
       "83          0.842968                Y  \n",
       "22          0.894557                Y  \n",
       "444         0.541696                Y  \n",
       "499         0.617272                Y  "
      ]
     },
     "execution_count": 62,
     "metadata": {},
     "output_type": "execute_result"
    }
   ],
   "source": [
    "print(df_log.shape)\n",
    "df_log.head()"
   ]
  },
  {
   "cell_type": "code",
   "execution_count": null,
   "metadata": {},
   "outputs": [],
   "source": []
  }
 ],
 "metadata": {
  "kernelspec": {
   "display_name": "MachineLearning",
   "language": "python",
   "name": "python3"
  },
  "language_info": {
   "codemirror_mode": {
    "name": "ipython",
    "version": 3
   },
   "file_extension": ".py",
   "mimetype": "text/x-python",
   "name": "python",
   "nbconvert_exporter": "python",
   "pygments_lexer": "ipython3",
   "version": "3.9.12"
  },
  "orig_nbformat": 4,
  "vscode": {
   "interpreter": {
    "hash": "415410f39d953828783f6475a37c88806807d7c4c38ec2bd54e842e91eef5ba4"
   }
  }
 },
 "nbformat": 4,
 "nbformat_minor": 2
}
